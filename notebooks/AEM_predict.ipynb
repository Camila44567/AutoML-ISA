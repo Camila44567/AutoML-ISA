{
 "cells": [
  {
   "cell_type": "markdown",
   "metadata": {},
   "source": [
    "## Automatic Extraction Method\n",
    "Here the objective is to automatically extract rules from pyhard metadata that can predict if an instance is hard or easy for a given classifier using that instances metafeatures."
   ]
  },
  {
   "cell_type": "markdown",
   "metadata": {},
   "source": [
    "Generate metadata, algorithm_bin and beta_easy for train, test and validation data"
   ]
  },
  {
   "cell_type": "code",
   "execution_count": 11,
   "metadata": {},
   "outputs": [],
   "source": [
    "import preprocess as pp\n",
    "\n",
    "# Directory with the CSV File with data for original features\n",
    "#direc = \"/home/camila/Documents/Faculdade/Projeto-Mestrado/Dados/Reais/compas\"\n",
    "#direc = \"/home/camila/Documents/Faculdade/Projeto-Mestrado/Dados/Reais/compas_no_race\"\n",
    "#direc = \"/home/camila/Documents/Faculdade/Projeto-Mestrado/Dados/Reais/covid/internacao\"\n",
    "#direc = \"/home/camila/Documents/Faculdade/Projeto-Mestrado/Dados/Reais/credit-g\"\n",
    "#direc = \"/home/camila/Documents/Faculdade/Projeto-Mestrado/Dados/Reais/glass\"\n",
    "#direc = \"/home/camila/Documents/Faculdade/Projeto-Mestrado/Dados/Reais/iris\"\n",
    "#direc = \"/home/camila/Documents/Faculdade/Projeto-Mestrado/Dados/Reais/pima_diabetes\"\n",
    "#direc = \"/home/camila/Documents/Faculdade/Projeto-Mestrado/Dados/Reais/cifar/people\"\n",
    "direc = \"/home/camila/Documents/Faculdade/Projeto-Mestrado/Dados/Reais/cifar/vehicles\""
   ]
  },
  {
   "cell_type": "code",
   "execution_count": 2,
   "metadata": {
    "collapsed": true,
    "jupyter": {
     "outputs_hidden": true
    }
   },
   "outputs": [
    {
     "name": "stdout",
     "output_type": "stream",
     "text": [
      "100%|██████████| 20/20 [00:13<00:00,  1.44trial/s, best loss: -0.9073736491553085]\n",
      "100%|██████████| 20/20 [00:13<00:00,  1.44trial/s, best loss: -0.9158787878787878]\n",
      "100%|██████████| 20/20 [00:12<00:00,  1.55trial/s, best loss: -0.9127272727272727]\n",
      "100%|██████████| 20/20 [00:16<00:00,  1.20trial/s, best loss: -0.9144242424242425]\n",
      "100%|██████████| 20/20 [00:14<00:00,  1.36trial/s, best loss: -0.9136969696969697]\n",
      "100%|██████████| 20/20 [00:18<00:00,  1.06trial/s, best loss: -0.9272556128975343]\n",
      "100%|██████████| 20/20 [00:10<00:00,  1.83trial/s, best loss: -0.927030303030303] \n",
      "100%|██████████| 20/20 [00:13<00:00,  1.47trial/s, best loss: -0.928]            \n",
      "100%|██████████| 20/20 [00:11<00:00,  1.78trial/s, best loss: -0.9321212121212121]\n",
      "100%|██████████| 20/20 [00:14<00:00,  1.34trial/s, best loss: -0.9238787878787879]\n",
      "100%|██████████| 20/20 [00:00<00:00, 31.60trial/s, best loss: -0.9318643200564597]\n",
      "100%|██████████| 20/20 [00:00<00:00, 27.37trial/s, best loss: -0.9330909090909091]\n",
      "100%|██████████| 20/20 [00:00<00:00, 26.98trial/s, best loss: -0.9277575757575759]\n",
      "100%|██████████| 20/20 [00:00<00:00, 29.97trial/s, best loss: -0.9265454545454546]\n",
      "100%|██████████| 20/20 [00:00<00:00, 29.70trial/s, best loss: -0.9292121212121213]\n",
      "100%|██████████| 20/20 [01:23<00:00,  4.18s/trial, best loss: -0.9311368708923293]\n",
      "100%|██████████| 20/20 [01:29<00:00,  4.49s/trial, best loss: -0.9282424242424243]\n",
      "100%|██████████| 20/20 [01:23<00:00,  4.18s/trial, best loss: -0.929212121212121]\n",
      " 90%|█████████ | 18/20 [01:30<00:10,  5.05s/trial, best loss: -0.8981818181818181]\n",
      " 90%|█████████ | 18/20 [01:30<00:10,  5.03s/trial, best loss: -0.9277575757575759]\n",
      "100%|██████████| 20/20 [00:10<00:00,  1.86trial/s, best loss: -0.9270130122182524]\n",
      "100%|██████████| 20/20 [00:11<00:00,  1.76trial/s, best loss: -0.9316363636363635]\n",
      "100%|██████████| 20/20 [00:11<00:00,  1.75trial/s, best loss: -0.9301818181818181]\n",
      "100%|██████████| 20/20 [00:12<00:00,  1.59trial/s, best loss: -0.9299393939393941]\n",
      "100%|██████████| 20/20 [00:10<00:00,  1.83trial/s, best loss: -0.9253333333333335]\n",
      "100%|██████████| 20/20 [00:03<00:00,  5.84trial/s, best loss: -0.92677270521812]  \n",
      "100%|██████████| 20/20 [00:03<00:00,  5.81trial/s, best loss: -0.9277575757575757]\n",
      "100%|██████████| 20/20 [00:03<00:00,  6.51trial/s, best loss: -0.9323636363636364]\n",
      "100%|██████████| 20/20 [00:02<00:00,  7.14trial/s, best loss: -0.9304242424242425]\n",
      "100%|██████████| 20/20 [00:02<00:00,  7.18trial/s, best loss: -0.9301818181818181]\n",
      "100%|██████████| 20/20 [00:13<00:00,  1.45trial/s, best loss: -0.9270131886551102]\n",
      "100%|██████████| 20/20 [00:12<00:00,  1.61trial/s, best loss: -0.9253333333333332]\n",
      "100%|██████████| 20/20 [00:19<00:00,  1.05trial/s, best loss: -0.9279999999999999]\n",
      "100%|██████████| 20/20 [00:12<00:00,  1.65trial/s, best loss: -0.9311515151515151]\n",
      "100%|██████████| 20/20 [00:13<00:00,  1.45trial/s, best loss: -0.9316363636363637]\n",
      "--- 881.3828377723694 seconds ---\n"
     ]
    }
   ],
   "source": [
    "# Generate metadata, algorithm_bin and beta_easy for train and test data\n",
    "pp.create_isa_datasets(direc)"
   ]
  },
  {
   "cell_type": "markdown",
   "metadata": {},
   "source": [
    "Read .csv files with original data, metadata, algorithm_bin and beta_easy"
   ]
  },
  {
   "cell_type": "code",
   "execution_count": 12,
   "metadata": {},
   "outputs": [],
   "source": [
    "import pandas as pd\n",
    "\n",
    "df_original = pd.read_csv(f'{direc}/original.csv')\n",
    "df_metadata = pd.read_csv(f'{direc}/metadata.csv')\n",
    "df_algorithm_bin = pd.read_csv(f'{direc}/algorithm_bin.csv')\n",
    "df_beta_easy = pd.read_csv(f'{direc}/beta_easy.csv')\n",
    "\n",
    "#remove algorithms from metafeature sets\n",
    "algos = ['algo_bagging', 'algo_gradient_boosting', 'algo_logistic_regression', \n",
    "     'algo_mlp', 'algo_random_forest', 'algo_svc_linear', 'algo_svc_rbf']\n",
    "\n",
    "for a in algos:\n",
    "    del df_metadata[a]\n",
    "    \n",
    "\n",
    "# join algorithm bin and beta easy for train, validation and test data\n",
    "df_performance = df_algorithm_bin.assign(IsBetaEasy = df_beta_easy['IsBetaEasy'])"
   ]
  },
  {
   "cell_type": "markdown",
   "metadata": {},
   "source": [
    "Split into train, validation and test"
   ]
  },
  {
   "cell_type": "code",
   "execution_count": 13,
   "metadata": {},
   "outputs": [],
   "source": [
    "import preprocess as pp\n",
    "\n",
    "# Create train, validation and test datasets\n",
    "df_train_aux, df_test  = pp.split_sets(X = df_original.iloc[: , :-1], \n",
    "                                       y = df_original.iloc[: , -1])\n",
    "\n",
    "df_train, df_val  = pp.split_sets(X = df_train_aux.iloc[: , :-1], \n",
    "                                  y = df_train_aux.iloc[: , -1])\n",
    "\n",
    "# get indices\n",
    "train_idx = df_train.index\n",
    "val_idx = df_val.index\n",
    "test_idx = df_test.index\n",
    "\n",
    "#Separate sets\n",
    "df_train = df_original.iloc[train_idx]\n",
    "df_val = df_original.iloc[val_idx]\n",
    "df_test = df_original.iloc[test_idx]\n",
    "\n",
    "df_metadata_train = df_metadata.iloc[train_idx]\n",
    "df_metadata_val = df_metadata.iloc[val_idx]\n",
    "df_metadata_test = df_metadata.iloc[test_idx]\n",
    "\n",
    "df_algorithm_bin_train = df_algorithm_bin.iloc[train_idx]\n",
    "df_algorithm_bin_val = df_algorithm_bin.iloc[val_idx]\n",
    "df_algorithm_bin_test = df_algorithm_bin.iloc[test_idx]\n",
    "\n",
    "df_beta_easy_train = df_beta_easy.iloc[train_idx]\n",
    "df_beta_easy_val = df_beta_easy.iloc[val_idx]\n",
    "df_beta_easy_test = df_beta_easy.iloc[test_idx]"
   ]
  },
  {
   "cell_type": "markdown",
   "metadata": {},
   "source": [
    "Let's verify if we have unbalanced classes in the beta easy train dataset and if so oversample the minority class"
   ]
  },
  {
   "cell_type": "code",
   "execution_count": 15,
   "metadata": {},
   "outputs": [
    {
     "name": "stdout",
     "output_type": "stream",
     "text": [
      "IsBetaEasy\n",
      "1             1080\n",
      "0              145\n",
      "dtype: int64 \n",
      "\n",
      "0    1080\n",
      "1    1080\n",
      "dtype: int64 \n",
      "\n"
     ]
    }
   ],
   "source": [
    "from imblearn.over_sampling import RandomOverSampler \n",
    "\n",
    "print(df_beta_easy_train.value_counts(), \"\\n\")\n",
    "\n",
    "ros = RandomOverSampler(sampling_strategy='minority', random_state=42)\n",
    "\n",
    "X_res, y_res = ros.fit_resample(df_train.to_numpy(), df_beta_easy_train.IsBetaEasy.to_numpy())\n",
    "\n",
    "print(pd.DataFrame(y_res).value_counts(), \"\\n\")\n",
    "\n",
    "\n",
    "# df_train_balanced = df_train.iloc[ros.sample_indices_,]\n",
    "# df_metadata_train_balanced = df_metadata_train.iloc[ros.sample_indices_,]\n",
    "# df_beta_easy_train_balanced = df_beta_easy_train.iloc[ros.sample_indices_,]\n",
    "\n",
    "df_train_balanced = df_train\n",
    "df_metadata_train_balanced = df_metadata_train\n",
    "df_beta_easy_train_balanced = df_beta_easy_train"
   ]
  },
  {
   "cell_type": "markdown",
   "metadata": {},
   "source": [
    "Let's tune the hyperparameters merge and drop:"
   ]
  },
  {
   "cell_type": "code",
   "execution_count": 16,
   "metadata": {},
   "outputs": [
    {
     "name": "stdout",
     "output_type": "stream",
     "text": [
      "percent merge: 0.000, percent drop: 0.00\n",
      "percent merge: 0.000, percent drop: 0.05\n",
      "percent merge: 0.000, percent drop: 0.10\n",
      "percent merge: 0.000, percent drop: 0.15\n",
      "percent merge: 0.000, percent drop: 0.20\n",
      "percent merge: 0.002, percent drop: 0.00\n",
      "percent merge: 0.002, percent drop: 0.05\n",
      "percent merge: 0.002, percent drop: 0.10\n",
      "percent merge: 0.002, percent drop: 0.15\n",
      "percent merge: 0.002, percent drop: 0.20\n",
      "percent merge: 0.004, percent drop: 0.00\n",
      "percent merge: 0.004, percent drop: 0.05\n",
      "percent merge: 0.004, percent drop: 0.10\n",
      "percent merge: 0.004, percent drop: 0.15\n",
      "percent merge: 0.004, percent drop: 0.20\n",
      "percent merge: 0.006, percent drop: 0.00\n",
      "percent merge: 0.006, percent drop: 0.05\n",
      "percent merge: 0.006, percent drop: 0.10\n",
      "percent merge: 0.006, percent drop: 0.15\n",
      "percent merge: 0.006, percent drop: 0.20\n",
      "percent merge: 0.008, percent drop: 0.00\n",
      "percent merge: 0.008, percent drop: 0.05\n",
      "percent merge: 0.008, percent drop: 0.10\n",
      "percent merge: 0.008, percent drop: 0.15\n",
      "percent merge: 0.008, percent drop: 0.20\n",
      "--- 94.43477463722229 seconds ---\n"
     ]
    }
   ],
   "source": [
    "import numpy as np\n",
    "import autoextractionmethod as aem\n",
    "\n",
    "import time\n",
    "start_time = time.time()\n",
    "\n",
    "start_merge = 0\n",
    "stop_merge = 0.01\n",
    "step_merge = 0.002\n",
    "\n",
    "start_drop = 0\n",
    "stop_drop = 0.25\n",
    "step_drop = 0.05\n",
    "\n",
    "merge_space = np.arange(start_merge, stop_merge, step_merge)\n",
    "drop_space = np.arange(start_drop, stop_drop, step_drop)\n",
    "\n",
    "df_f1 = aem.tune_hyper_params(merge_space, \n",
    "                                    drop_space, \n",
    "                                    df_train_balanced, \n",
    "                                    df_metadata_train_balanced, \n",
    "                                    #df_performance_train,\n",
    "                                    df_beta_easy_train_balanced,\n",
    "                                    df_metadata_val, \n",
    "                                    #df_performance_val,\n",
    "                                    df_beta_easy_val,\n",
    "                                    direc)\n",
    "\n",
    "\n",
    "print(\"--- %s seconds ---\" % (time.time() - start_time))"
   ]
  },
  {
   "cell_type": "markdown",
   "metadata": {},
   "source": [
    "Let's plot the f1 scores to see if the search space is giving good results"
   ]
  },
  {
   "cell_type": "code",
   "execution_count": 17,
   "metadata": {},
   "outputs": [
    {
     "data": {
      "text/plain": [
       "<AxesSubplot:>"
      ]
     },
     "execution_count": 17,
     "metadata": {},
     "output_type": "execute_result"
    },
    {
     "data": {
      "text/plain": [
       "<Figure size 432x288 with 0 Axes>"
      ]
     },
     "metadata": {},
     "output_type": "display_data"
    },
    {
     "data": {
      "image/png": "[encoded data removed]",
      "text/plain": [
       "<Figure size 432x288 with 1 Axes>"
      ]
     },
     "metadata": {
      "needs_background": "light"
     },
     "output_type": "display_data"
    }
   ],
   "source": [
    "import matplotlib.pyplot as plt\n",
    "\n",
    "plt.figure()\n",
    "\n",
    "df_f1.plot()"
   ]
  },
  {
   "cell_type": "markdown",
   "metadata": {},
   "source": [
    "Extract rules using the automatic extraction method"
   ]
  },
  {
   "cell_type": "code",
   "execution_count": 18,
   "metadata": {},
   "outputs": [
    {
     "name": "stdout",
     "output_type": "stream",
     "text": [
      "--- 5.613038539886475 seconds ---\n"
     ]
    }
   ],
   "source": [
    "import autoextractionmethod as aem\n",
    "\n",
    "import time\n",
    "start_time = time.time()\n",
    "\n",
    "df_best = pd.read_csv(f'{direc}/best_hyperparameters.csv')\n",
    "df_best.rename(index={0: 'f1', 1:'merge', 2:'drop'}, inplace=True)\n",
    "\n",
    "# extract the rule intervals using the train data\n",
    "dict_E, dict_H = aem.auto_extraction(df_train_balanced, \n",
    "                                     df_metadata_train_balanced, \n",
    "                                     #df_performance_train,\n",
    "                                     df_beta_easy_train_balanced,\n",
    "                                     df_best.loc['drop'], \n",
    "                                     df_best.loc['merge'])\n",
    "\n",
    "# Easy behavior rules\n",
    "dict_easy_rules = aem.simple_rules(dict_E, len(df_train_balanced))\n",
    "\n",
    "# Hard behavior rules\n",
    "dict_hard_rules = aem.simple_rules(dict_H, len(df_train_balanced))\n",
    "\n",
    "# Let's keep the metafeatures that are present in both easy and hard intervals for a given performance measure\n",
    "#dict_easy_rules, dict_hard_rules = aem.common_rules(dict_easy_rules, dict_hard_rules)\n",
    "\n",
    "# Let's predict the performance of the test datasets using the rules\n",
    "# We also obtain the Positive Rule Disjunction (PRD) and Negative Rule Disjunction (NRD)  \n",
    "# The disjunctive combination of all the simple positive rules or all the simple negative \n",
    "# rules is used to obtain a single positive and single negative rule.\n",
    "\n",
    "dict_pred = aem.predict(#df_performance_train,\n",
    "                        df_beta_easy_test,\n",
    "                        df_metadata_test, \n",
    "                        dict_easy_rules, \n",
    "                        dict_hard_rules)\n",
    "\n",
    "print(\"--- %s seconds ---\" % (time.time() - start_time))"
   ]
  },
  {
   "cell_type": "code",
   "execution_count": 19,
   "metadata": {},
   "outputs": [
    {
     "data": {
      "text/html": [
       "<th style=\"text-align:center\"><td style=\"vertical-align:top\"><h2>Easy</h2><table style=\"display:inline\" border=\"1\" class=\"dataframe\">\n",
       "  <thead>\n",
       "    <tr style=\"text-align: right;\">\n",
       "      <th></th>\n",
       "      <th>Metafeature</th>\n",
       "      <th>Index</th>\n",
       "      <th>Interval</th>\n",
       "      <th>Support</th>\n",
       "    </tr>\n",
       "  </thead>\n",
       "  <tbody>\n",
       "    <tr>\n",
       "      <th>0</th>\n",
       "      <td>feature_CL</td>\n",
       "      <td>[430, 530]</td>\n",
       "      <td>[0.107624, 0.118588]</td>\n",
       "      <td>0.08</td>\n",
       "    </tr>\n",
       "    <tr>\n",
       "      <th>1</th>\n",
       "      <td>feature_DCP</td>\n",
       "      <td>[224, 481]</td>\n",
       "      <td>[0.037037, 0.083612]</td>\n",
       "      <td>0.21</td>\n",
       "    </tr>\n",
       "    <tr>\n",
       "      <th>2</th>\n",
       "      <td>feature_F1</td>\n",
       "      <td>[854, 917]</td>\n",
       "      <td>[0.972534, 0.974121]</td>\n",
       "      <td>0.05</td>\n",
       "    </tr>\n",
       "    <tr>\n",
       "      <th>3</th>\n",
       "      <td>feature_Harmfulness</td>\n",
       "      <td>[387, 471]</td>\n",
       "      <td>[0.0, 0.0]</td>\n",
       "      <td>0.07</td>\n",
       "    </tr>\n",
       "    <tr>\n",
       "      <th>4</th>\n",
       "      <td>feature_LSC</td>\n",
       "      <td>[0, 500]</td>\n",
       "      <td>[0.480962, 0.9499]</td>\n",
       "      <td>0.41</td>\n",
       "    </tr>\n",
       "    <tr>\n",
       "      <th>5</th>\n",
       "      <td>feature_N1</td>\n",
       "      <td>[960, 1046]</td>\n",
       "      <td>[0.0, 0.333333]</td>\n",
       "      <td>0.07</td>\n",
       "    </tr>\n",
       "    <tr>\n",
       "      <th>6</th>\n",
       "      <td>feature_N2</td>\n",
       "      <td>[103, 323]</td>\n",
       "      <td>[0.389976, 0.442626]</td>\n",
       "      <td>0.18</td>\n",
       "    </tr>\n",
       "    <tr>\n",
       "      <th>7</th>\n",
       "      <td>feature_Usefulness</td>\n",
       "      <td>[0, 337]</td>\n",
       "      <td>[0.386, 0.894]</td>\n",
       "      <td>0.28</td>\n",
       "    </tr>\n",
       "    <tr>\n",
       "      <th>8</th>\n",
       "      <td>feature_kDN</td>\n",
       "      <td>[288, 589]</td>\n",
       "      <td>[0.0, 0.0]</td>\n",
       "      <td>0.25</td>\n",
       "    </tr>\n",
       "  </tbody>\n",
       "</table style=\"display:inline\"></td></th><th style=\"text-align:center\"><td style=\"vertical-align:top\"><h2>Hard</h2><table style=\"display:inline\" border=\"1\" class=\"dataframe\">\n",
       "  <thead>\n",
       "    <tr style=\"text-align: right;\">\n",
       "      <th></th>\n",
       "      <th>Metafeature</th>\n",
       "      <th>Index</th>\n",
       "      <th>Interval</th>\n",
       "      <th>Support</th>\n",
       "    </tr>\n",
       "  </thead>\n",
       "  <tbody>\n",
       "    <tr>\n",
       "      <th>0</th>\n",
       "      <td>feature_CL</td>\n",
       "      <td>[1128, 1138]</td>\n",
       "      <td>[0.95582, 0.95735]</td>\n",
       "      <td>0.01</td>\n",
       "    </tr>\n",
       "    <tr>\n",
       "      <th>1</th>\n",
       "      <td>feature_N1</td>\n",
       "      <td>[1148, 1156]</td>\n",
       "      <td>[1.0, 1.0]</td>\n",
       "      <td>0.01</td>\n",
       "    </tr>\n",
       "    <tr>\n",
       "      <th>2</th>\n",
       "      <td>feature_kDN</td>\n",
       "      <td>[1192, 1202]</td>\n",
       "      <td>[1.0, 1.0]</td>\n",
       "      <td>0.01</td>\n",
       "    </tr>\n",
       "  </tbody>\n",
       "</table style=\"display:inline\"></td></th>"
      ]
     },
     "metadata": {},
     "output_type": "display_data"
    }
   ],
   "source": [
    "aem.display_side_by_side(dict_easy_rules[\"IsBetaEasy\"] ,dict_hard_rules[\"IsBetaEasy\"], titles=['Easy','Hard'])\n",
    "\n",
    "# Latex tables\n",
    "#print(dict_easy_rules[\"IsBetaEasy\"].drop(columns = 'Index').round(2).to_latex(index=False))  \n",
    "#print(dict_hard_rules[\"IsBetaEasy\"].drop(columns = 'Index').round(2).to_latex(index=False))  \n"
   ]
  },
  {
   "cell_type": "markdown",
   "metadata": {},
   "source": [
    "Let's evaluate the performance of the ruleset"
   ]
  },
  {
   "cell_type": "code",
   "execution_count": 21,
   "metadata": {},
   "outputs": [
    {
     "name": "stdout",
     "output_type": "stream",
     "text": [
      "Weighted F1 Score Train: 0.86\n",
      "Weighted F1 Score Test: 0.87\n",
      "--- 0.243147611618042 seconds ---\n"
     ]
    },
    {
     "data": {
      "image/png": "[encoded data removed]",
      "text/plain": [
       "<Figure size 432x288 with 2 Axes>"
      ]
     },
     "metadata": {
      "needs_background": "light"
     },
     "output_type": "display_data"
    }
   ],
   "source": [
    "from sklearn.metrics import confusion_matrix\n",
    "import seaborn as sns\n",
    "import numpy as np\n",
    "import cf_matrix as cm\n",
    "import os\n",
    "import matplotlib.pyplot as plt\n",
    "from sklearn.metrics import f1_score\n",
    "import time\n",
    "\n",
    "start_time = time.time()\n",
    "\n",
    "\n",
    "# Change plot font size and update to save as latex\n",
    "#matplotlib.use(\"png\")\n",
    "plt.rcParams.update({\n",
    "    'font.size': 13\n",
    "})\n",
    "\n",
    "\n",
    "# Let's get the performance names for the current dataset\n",
    "#performance_names = list(df_performance_test.columns)\n",
    "\n",
    "performance = \"IsBetaEasy\"\n",
    "\n",
    "dict_pred[performance].PRD = dict_pred[performance].PRD == 1\n",
    "dict_pred[performance].NRD = dict_pred[performance].NRD == 1\n",
    "\n",
    "dict_pred[performance]['PRD_not_NRD'] = dict_pred[performance].PRD & ~dict_pred[performance].NRD\n",
    "dict_pred[performance]['NRD_not_PRD'] = ~dict_pred[performance].PRD & dict_pred[performance].NRD\n",
    "\n",
    "# Which rules are used to classify easy and hard instances\n",
    "mask1 = dict_pred[performance].PRD_not_NRD == True\n",
    "mask2 = dict_pred[performance].NRD_not_PRD == True\n",
    "\n",
    "dict_pred[performance]['Final'] = [-1] * len(df_metadata_test)\n",
    "\n",
    "dict_pred[performance].loc[mask2, ('Final')] = 0\n",
    "dict_pred[performance].loc[mask1, ('Final')] = 1\n",
    "\n",
    "matrix = confusion_matrix(df_beta_easy_test[performance], dict_pred[performance].Final)\n",
    "labels = ['True Neg','False Pos','False Neg','True Pos']\n",
    "categories = ['None', 'Hard', 'Easy']\n",
    "    \n",
    "# Get direc name\n",
    "direc_name = os.path.basename(direc)\n",
    "    \n",
    "cm.make_confusion_matrix(matrix, \n",
    "                  group_names=labels,\n",
    "                  categories=categories, \n",
    "                  cmap='Blues',\n",
    "                  sum_stats=False\n",
    "                        )\n",
    "\n",
    "# f1 score\n",
    "f1 = f1_score(df_beta_easy_test, \n",
    "               dict_pred[\"IsBetaEasy\"].Final, \n",
    "               average='weighted')\n",
    "\n",
    "print(f\"Weighted F1 Score Train: {round(df_best.loc['f1', 'IsBetaEasy'], 2)}\")\n",
    "print(f\"Weighted F1 Score Test: {round(f1, 2)}\")\n",
    "\n",
    "plt.savefig(f'{direc}/Images/performance_{\"IsBetaEasy\"}_{direc_name}.pgf')\n",
    "\n",
    "print(\"--- %s seconds ---\" % (time.time() - start_time))"
   ]
  }
 ],
 "metadata": {
  "kernelspec": {
   "display_name": "Python 3",
   "language": "python",
   "name": "python3"
  },
  "language_info": {
   "codemirror_mode": {
    "name": "ipython",
    "version": 3
   },
   "file_extension": ".py",
   "mimetype": "text/x-python",
   "name": "python",
   "nbconvert_exporter": "python",
   "pygments_lexer": "ipython3",
   "version": "3.7.6"
  }
 },
 "nbformat": 4,
 "nbformat_minor": 4
}
